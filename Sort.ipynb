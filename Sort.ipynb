{
 "cells": [
  {
   "cell_type": "markdown",
   "metadata": {},
   "source": [
    "#### <a style=\"color:#ae0000\" >$$Seblaoui Badreddine$$  $$2 DNI Groupe 2 $$   "
   ]
  },
  {
   "cell_type": "markdown",
   "metadata": {},
   "source": [
    "#  <center style=\"color:#021E55\" >-- Sort Project --</center>"
   ]
  },
  {
   "cell_type": "code",
   "execution_count": 46,
   "metadata": {},
   "outputs": [],
   "source": [
    "import random\n",
    "import numpy \n",
    "import time \n",
    "    "
   ]
  },
  {
   "cell_type": "code",
   "execution_count": 47,
   "metadata": {},
   "outputs": [
    {
     "name": "stdout",
     "output_type": "stream",
     "text": [
      "tri par selection  [3, 16, 14, 16, 10, 20, 13, 10, 2, 2, 11]\n",
      "temp d'exécution d'un tri par insertion  0.00022613300006923964\n"
     ]
    },
    {
     "name": "stderr",
     "output_type": "stream",
     "text": [
      "C:\\Users\\badre\\anaconda3\\envs\\Sort\\lib\\site-packages\\ipykernel_launcher.py:26: DeprecationWarning: time.clock has been deprecated in Python 3.3 and will be removed from Python 3.8: use time.perf_counter or time.process_time instead\n",
      "C:\\Users\\badre\\anaconda3\\envs\\Sort\\lib\\site-packages\\ipykernel_launcher.py:30: DeprecationWarning: time.clock has been deprecated in Python 3.3 and will be removed from Python 3.8: use time.perf_counter or time.process_time instead\n"
     ]
    }
   ],
   "source": [
    "def TriSelection(stab):  \n",
    "    n=len(stab)\n",
    "    aux=0\n",
    "    for i in range(1,n-1):\n",
    "        ind_min=i\n",
    "        for k in range(i+1,n):\n",
    "            if stab[k]< stab[ind_min]:\n",
    "                ind_min=k\n",
    "        aux==stab[i]\n",
    "        stab[i]==ind_min\n",
    "        stab[ind_min]==aux\n",
    "        return stab\n",
    "    ################################# creation d'un tableau #################################\n",
    "liste = []\n",
    "for k in range(11):\n",
    "    liste.append(random.randint(0,20))\n",
    "TriSelection(liste)\n",
    "print (\"tri par selection \",liste)\n",
    "\n",
    "    ################################# temp d'exécution #################################\n",
    "def temp():\n",
    "    n = random.randint(10000,20000)\n",
    "    return n   \n",
    "def rapport_temps1(N):\n",
    "    n = temp()\n",
    "    t2 = time.clock()\n",
    "    for k in range(n):\n",
    "        liste = numpy.random.randint(0,N,size=N)\n",
    "        TriSelection(liste)\n",
    "        t2 = time.clock()-t2\n",
    "        return t2 \n",
    "print(\"temp d'exécution d'un tri par insertion \",rapport_temps1(10))    \n",
    "    \n"
   ]
  },
  {
   "cell_type": "code",
   "execution_count": 48,
   "metadata": {},
   "outputs": [
    {
     "name": "stdout",
     "output_type": "stream",
     "text": [
      "tri a bulle  [11, 1, 7, 7, 13, 14, 15, 15, 17, 17, 19]\n"
     ]
    },
    {
     "name": "stderr",
     "output_type": "stream",
     "text": [
      "C:\\Users\\badre\\anaconda3\\envs\\Sort\\lib\\site-packages\\ipykernel_launcher.py:29: DeprecationWarning: time.clock has been deprecated in Python 3.3 and will be removed from Python 3.8: use time.perf_counter or time.process_time instead\n"
     ]
    },
    {
     "name": "stdout",
     "output_type": "stream",
     "text": [
      "temp d'exécution d'un tri a bulle  0.5772344780002641\n"
     ]
    },
    {
     "name": "stderr",
     "output_type": "stream",
     "text": [
      "C:\\Users\\badre\\anaconda3\\envs\\Sort\\lib\\site-packages\\ipykernel_launcher.py:33: DeprecationWarning: time.clock has been deprecated in Python 3.3 and will be removed from Python 3.8: use time.perf_counter or time.process_time instead\n"
     ]
    }
   ],
   "source": [
    "def TriaBulle(btab):\n",
    "    n=len(btab)\n",
    "    permut= True\n",
    "    p=n-1\n",
    "    aux=0\n",
    "    while (permut== True) :\n",
    "        permut=False\n",
    "        for i in range(1,p):\n",
    "            if (btab[i] > btab[i+1] ):\n",
    "                aux=btab[i]\n",
    "                btab[i]=btab[i+1]\n",
    "                btab[i+1]=aux\n",
    "                permut= True\n",
    "        p=p-1\n",
    "    return btab  \n",
    "    ################################# creation d'un tableau #################################\n",
    "liste = []\n",
    "for k in range(11):\n",
    "    liste.append(random.randint(0,20))\n",
    "TriaBulle(liste)\n",
    "print (\"tri a bulle \",liste)\n",
    "\n",
    "    ################################# temp d'exécution #################################\n",
    "def temp():\n",
    "    n = random.randint(10000,20000)\n",
    "    return n   \n",
    "def rapport_temps2(N):\n",
    "    n = temp()\n",
    "    t2 = time.clock()\n",
    "    for k in range(n):\n",
    "        liste = numpy.random.randint(0,N,size=N)\n",
    "        TriaBulle(liste)\n",
    "    t2 = time.clock()-t2\n",
    "    return t2 \n",
    "            \n",
    "print(\"temp d'exécution d'un tri a bulle \",rapport_temps2(10))    \n",
    "    "
   ]
  },
  {
   "cell_type": "code",
   "execution_count": 49,
   "metadata": {},
   "outputs": [
    {
     "name": "stdout",
     "output_type": "stream",
     "text": [
      "tri par insertion  [15, 0, 15, 4, 7, 9, 1, 11, 17, 12, 15]\n"
     ]
    },
    {
     "name": "stderr",
     "output_type": "stream",
     "text": [
      "C:\\Users\\badre\\anaconda3\\envs\\Sort\\lib\\site-packages\\ipykernel_launcher.py:23: DeprecationWarning: time.clock has been deprecated in Python 3.3 and will be removed from Python 3.8: use time.perf_counter or time.process_time instead\n"
     ]
    },
    {
     "name": "stdout",
     "output_type": "stream",
     "text": [
      "temp d'exécution d'un tri par insertion  1.1621412899999086\n"
     ]
    },
    {
     "name": "stderr",
     "output_type": "stream",
     "text": [
      "C:\\Users\\badre\\anaconda3\\envs\\Sort\\lib\\site-packages\\ipykernel_launcher.py:27: DeprecationWarning: time.clock has been deprecated in Python 3.3 and will be removed from Python 3.8: use time.perf_counter or time.process_time instead\n"
     ]
    }
   ],
   "source": [
    "def TriInsertion(itab):\n",
    "    n=len(itab)\n",
    "    for i in range(1,n-1):\n",
    "        x=itab[i+1]\n",
    "        j=1\n",
    "        while((itab[j]> x)& (j>0)):\n",
    "            itab[j+1]=itab[j]\n",
    "            j=j-1\n",
    "        itab[j+1]=x\n",
    "    return itab\n",
    "    ################################# creation d'un tableau #################################\n",
    "liste = []\n",
    "for k in range(11):\n",
    "    liste.append(random.randint(0,20))\n",
    "TriInsertion(liste)\n",
    "print (\"tri par insertion \",liste)\n",
    "    ################################# temp d'exécution #################################\n",
    "def temp():\n",
    "    n = random.randint(10000,20000)\n",
    "    return n    \n",
    "def rapport_temps3(N):\n",
    "    n = temp()\n",
    "    t2 = time.clock()\n",
    "    for k in range(n):\n",
    "        liste = numpy.random.randint(0,N,size=N)\n",
    "        TriInsertion(liste)\n",
    "    t2 = time.clock()-t2\n",
    "    return t2 \n",
    "print(\"temp d'exécution d'un tri par insertion \",rapport_temps3(10))\n",
    "\n"
   ]
  },
  {
   "cell_type": "code",
   "execution_count": 50,
   "metadata": {},
   "outputs": [
    {
     "name": "stdout",
     "output_type": "stream",
     "text": [
      "Tri par Fusion  [0, 2, 5, 6, 7, 16, 19, 22, 27, 28, 29]\n"
     ]
    },
    {
     "name": "stderr",
     "output_type": "stream",
     "text": [
      "C:\\Users\\badre\\anaconda3\\envs\\Sort\\lib\\site-packages\\ipykernel_launcher.py:49: DeprecationWarning: time.clock has been deprecated in Python 3.3 and will be removed from Python 3.8: use time.perf_counter or time.process_time instead\n"
     ]
    },
    {
     "name": "stdout",
     "output_type": "stream",
     "text": [
      "Temp d'exécution d'un tri par Fusion  1.7822255480000422\n"
     ]
    },
    {
     "name": "stderr",
     "output_type": "stream",
     "text": [
      "C:\\Users\\badre\\anaconda3\\envs\\Sort\\lib\\site-packages\\ipykernel_launcher.py:53: DeprecationWarning: time.clock has been deprecated in Python 3.3 and will be removed from Python 3.8: use time.perf_counter or time.process_time instead\n"
     ]
    }
   ],
   "source": [
    "def division(L1,L2):\n",
    "    n1 = len(L1)\n",
    "    n2 = len(L2)\n",
    "    L12 = [0]*(n1+n2)\n",
    "    i1 = 0\n",
    "    i2 = 0\n",
    "    i = 0\n",
    "    while i1<n1 and i2<n2:\n",
    "        if L1[i1] < L2[i2]:\n",
    "            L12[i] = L1[i1]\n",
    "            i1 += 1\n",
    "        else:\n",
    "            L12[i] = L2[i2]\n",
    "            i2 += 1\n",
    "        i += 1\n",
    "    while i1<n1:\n",
    "    \tL12[i] = L1[i1]\n",
    "    \ti1 += 1\n",
    "    \ti += 1\n",
    "    while i2<n2:\n",
    "    \tL12[i] = L2[i2]\n",
    "    \ti2 += 1\n",
    "    \ti += 1 \n",
    "    return L12\n",
    "def tri_fusion(L):\n",
    "    n = len(L)\n",
    "    if n > 1:\n",
    "        p = int(n/2)\n",
    "        L1 = L[0:p]\n",
    "        L2 = L[p:n]\n",
    "        tri_fusion(L1)\n",
    "        tri_fusion(L2)\n",
    "        L[:] = division(L1,L2)\n",
    "    ################################# creation d'un tableau #################################    \n",
    "liste = []\n",
    "for k in range(11):\n",
    "    liste.append(random.randint(0,30))\n",
    "tri_fusion(liste)\n",
    "print(\"Tri par Fusion \",liste)\n",
    "\n",
    "\n",
    "    ################################# temp d'exécution #################################\n",
    "def temp():\n",
    "    n = random.randint(10000,20000)\n",
    "    return n   \n",
    "\n",
    "def rapport_temps4(N):\n",
    "    n = temp()\n",
    "    t2 = time.clock()\n",
    "    for k in range(n):\n",
    "        liste = numpy.random.randint(0,N,size=N)\n",
    "        tri_fusion(liste)\n",
    "    t2 = time.clock()-t2\n",
    "    return t2 \n",
    "print(\"Temp d'exécution d'un tri par Fusion \",rapport_temps4(10))\n",
    "                  \n"
   ]
  },
  {
   "cell_type": "code",
   "execution_count": 51,
   "metadata": {},
   "outputs": [
    {
     "name": "stdout",
     "output_type": "stream",
     "text": [
      "Tri rapide  [19, 11, 16, 10, 3, 0, 0, 4, 8, 0, 1]\n"
     ]
    },
    {
     "name": "stderr",
     "output_type": "stream",
     "text": [
      "C:\\Users\\badre\\anaconda3\\envs\\Sort\\lib\\site-packages\\ipykernel_launcher.py:33: DeprecationWarning: time.clock has been deprecated in Python 3.3 and will be removed from Python 3.8: use time.perf_counter or time.process_time instead\n"
     ]
    },
    {
     "name": "stdout",
     "output_type": "stream",
     "text": [
      "Temp d'exécution d'un tri rapide 0.44886007300010533\n"
     ]
    },
    {
     "name": "stderr",
     "output_type": "stream",
     "text": [
      "C:\\Users\\badre\\anaconda3\\envs\\Sort\\lib\\site-packages\\ipykernel_launcher.py:37: DeprecationWarning: time.clock has been deprecated in Python 3.3 and will be removed from Python 3.8: use time.perf_counter or time.process_time instead\n"
     ]
    }
   ],
   "source": [
    "def division(L,debut,fin):\n",
    "    pivot = L[fin]\n",
    "    i = debut\n",
    "    j = debut\n",
    "    while j < fin:\n",
    "        if L[j] <= pivot:\n",
    "            L[i],L[j] = L[j],L[i]\n",
    "            i += 1\n",
    "        j += 1\n",
    "    L[fin],L[i] = L[i],L[fin]\n",
    "    return i\n",
    "def tri_rapid(L,debut,fin):\n",
    "    if debut < fin:\n",
    "        i = division(L,debut,fin)\n",
    "        tri_rapid(L,debut,i-1)\n",
    "        tri_rapid(L,i+1,fin)\n",
    "def tri_rapide1(liste):\n",
    "    L = list(liste)\n",
    "    tri_rapid(L,0,len(L)-1)\n",
    "    return L\n",
    "    ################################# creation d'un tableau #################################   \n",
    "liste = []\n",
    "for k in range(11):\n",
    "    liste.append(random.randint(0,20))\n",
    "tri_rapide1(liste)\n",
    "print (\"Tri rapide \",liste)\n",
    "    ################################# temp d'exécution #################################\n",
    "def temp():\n",
    "    n = random.randint(10000,20000)\n",
    "    return n     \n",
    "def rapport_temps5(N):\n",
    "    n = temp()\n",
    "    t2 = time.clock()\n",
    "    for k in range(n):\n",
    "        liste = numpy.random.randint(0,N,size=N)\n",
    "        tri_rapide1(liste)\n",
    "    t2 = time.clock()-t2\n",
    "    return t2 \n",
    "print(\"Temp d'exécution d'un tri rapide\",rapport_temps5(10))\n",
    "\n"
   ]
  },
  {
   "cell_type": "code",
   "execution_count": 53,
   "metadata": {},
   "outputs": [
    {
     "name": "stdout",
     "output_type": "stream",
     "text": [
      "Collecting python-time\n",
      "  Downloading python-time-0.1.2.tar.gz (2.2 kB)\n",
      "Note: you may need to restart the kernel to use updated packages.\n"
     ]
    },
    {
     "name": "stderr",
     "output_type": "stream",
     "text": [
      "    ERROR: Command errored out with exit status 1:\n",
      "     command: 'C:\\Users\\badre\\anaconda3\\envs\\Sort\\python.exe' -c 'import sys, setuptools, tokenize; sys.argv[0] = '\"'\"'C:\\\\Users\\\\badre\\\\AppData\\\\Local\\\\Temp\\\\pip-install-s8znehhm\\\\python-time_672a2adaec4e409f89d945b2476d793b\\\\setup.py'\"'\"'; __file__='\"'\"'C:\\\\Users\\\\badre\\\\AppData\\\\Local\\\\Temp\\\\pip-install-s8znehhm\\\\python-time_672a2adaec4e409f89d945b2476d793b\\\\setup.py'\"'\"';f=getattr(tokenize, '\"'\"'open'\"'\"', open)(__file__);code=f.read().replace('\"'\"'\\r\\n'\"'\"', '\"'\"'\\n'\"'\"');f.close();exec(compile(code, __file__, '\"'\"'exec'\"'\"'))' egg_info --egg-base 'C:\\Users\\badre\\AppData\\Local\\Temp\\pip-pip-egg-info-qgaywwj7'\n",
      "         cwd: C:\\Users\\badre\\AppData\\Local\\Temp\\pip-install-s8znehhm\\python-time_672a2adaec4e409f89d945b2476d793b\\\n",
      "    Complete output (7 lines):\n",
      "    Traceback (most recent call last):\n",
      "      File \"<string>\", line 1, in <module>\n",
      "      File \"C:\\Users\\badre\\AppData\\Local\\Temp\\pip-install-s8znehhm\\python-time_672a2adaec4e409f89d945b2476d793b\\setup.py\", line 6, in <module>\n",
      "        long_description = fh.read()\n",
      "      File \"C:\\Users\\badre\\anaconda3\\envs\\Sort\\lib\\encodings\\cp1252.py\", line 23, in decode\n",
      "        return codecs.charmap_decode(input,self.errors,decoding_table)[0]\n",
      "    UnicodeDecodeError: 'charmap' codec can't decode byte 0x9d in position 27: character maps to <undefined>\n",
      "    ----------------------------------------\n",
      "ERROR: Command errored out with exit status 1: python setup.py egg_info Check the logs for full command output.\n"
     ]
    }
   ],
   "source": [
    "pip install python-time\n"
   ]
  },
  {
   "cell_type": "code",
   "execution_count": null,
   "metadata": {},
   "outputs": [],
   "source": []
  }
 ],
 "metadata": {
  "kernelspec": {
   "display_name": "Python 3",
   "language": "python",
   "name": "python3"
  },
  "language_info": {
   "codemirror_mode": {
    "name": "ipython",
    "version": 3
   },
   "file_extension": ".py",
   "mimetype": "text/x-python",
   "name": "python",
   "nbconvert_exporter": "python",
   "pygments_lexer": "ipython3",
   "version": "3.7.9"
  }
 },
 "nbformat": 4,
 "nbformat_minor": 4
}
